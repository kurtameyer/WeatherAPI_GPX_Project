{
 "cells": [
  {
   "cell_type": "code",
   "execution_count": 12,
   "metadata": {},
   "outputs": [],
   "source": [
    "import gpxpy\n",
    "import gpxpy.gpx"
   ]
  },
  {
   "cell_type": "code",
   "execution_count": 15,
   "metadata": {},
   "outputs": [],
   "source": [
    "\n",
    "def parse_gpx (filename):\n",
    "    with open (filename, \"r\") as gpx_file:\n",
    "        gpx = gpxpy.parse(gpx_file)\n",
    "        return gpx\n",
    "\n",
    "gpx = parse_gpx(\"Morning_Ride.gpx\")\n",
    "\n"
   ]
  },
  {
   "cell_type": "code",
   "execution_count": 16,
   "metadata": {},
   "outputs": [],
   "source": [
    "hourly_points = []\n",
    "\n",
    "for track in gpx.tracks:\n",
    "    for segment in track.segments:\n",
    "        for point in segment.points:\n",
    "            # If the minute and second of the point's time are both 0, it's the top of the hour\n",
    "            if point.time.minute == 0 and point.time.second == 0:\n",
    "                hourly_points.append(point)"
   ]
  },
  {
   "cell_type": "code",
   "execution_count": 17,
   "metadata": {},
   "outputs": [
    {
     "name": "stdout",
     "output_type": "stream",
     "text": [
      "[GPXTrackPoint(39.973156, -79.579909, elevation=299.4, time=datetime.datetime(2022, 6, 27, 14, 0, tzinfo=SimpleTZ(\"Z\"))), GPXTrackPoint(39.907996, -79.489818, elevation=375.0, time=datetime.datetime(2022, 6, 27, 15, 0, tzinfo=SimpleTZ(\"Z\"))), GPXTrackPoint(39.82645, -79.379338, elevation=413.0, time=datetime.datetime(2022, 6, 27, 17, 0, tzinfo=SimpleTZ(\"Z\"))), GPXTrackPoint(39.815779, -79.293999, elevation=484.6, time=datetime.datetime(2022, 6, 27, 18, 0, tzinfo=SimpleTZ(\"Z\"))), GPXTrackPoint(39.861644, -79.227678, elevation=562.4, time=datetime.datetime(2022, 6, 27, 19, 0, tzinfo=SimpleTZ(\"Z\"))), GPXTrackPoint(39.863845, -79.064948, elevation=622.2, time=datetime.datetime(2022, 6, 27, 21, 0, tzinfo=SimpleTZ(\"Z\")))]\n"
     ]
    }
   ],
   "source": [
    "print(hourly_points)"
   ]
  }
 ],
 "metadata": {
  "kernelspec": {
   "display_name": "Python 3",
   "language": "python",
   "name": "python3"
  },
  "language_info": {
   "codemirror_mode": {
    "name": "ipython",
    "version": 3
   },
   "file_extension": ".py",
   "mimetype": "text/x-python",
   "name": "python",
   "nbconvert_exporter": "python",
   "pygments_lexer": "ipython3",
   "version": "3.9.6"
  },
  "orig_nbformat": 4
 },
 "nbformat": 4,
 "nbformat_minor": 2
}
